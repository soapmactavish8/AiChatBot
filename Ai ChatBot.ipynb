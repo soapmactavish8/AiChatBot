{
  "cells": [
    {
      "cell_type": "code",
      "execution_count": null,
      "metadata": {
        "colab": {
          "base_uri": "https://localhost:8080/"
        },
        "id": "aXgWVpSJduLv",
        "outputId": "ea7301ce-3296-4312-ccba-d43b2117b78e"
      },
      "outputs": [
        {
          "name": "stdout",
          "output_type": "stream",
          "text": [
            "Collecting nltk\n",
            "  Downloading nltk-3.7-py3-none-any.whl (1.5 MB)\n",
            "\u001b[?25l\r\u001b[K     |▏                               | 10 kB 18.9 MB/s eta 0:00:01\r\u001b[K     |▍                               | 20 kB 26.1 MB/s eta 0:00:01\r\u001b[K     |▋                               | 30 kB 30.9 MB/s eta 0:00:01\r\u001b[K     |▉                               | 40 kB 17.5 MB/s eta 0:00:01\r\u001b[K     |█                               | 51 kB 14.1 MB/s eta 0:00:01\r\u001b[K     |█▎                              | 61 kB 15.9 MB/s eta 0:00:01\r\u001b[K     |█▌                              | 71 kB 16.5 MB/s eta 0:00:01\r\u001b[K     |█▊                              | 81 kB 17.7 MB/s eta 0:00:01\r\u001b[K     |██                              | 92 kB 19.4 MB/s eta 0:00:01\r\u001b[K     |██▏                             | 102 kB 10.8 MB/s eta 0:00:01\r\u001b[K     |██▍                             | 112 kB 10.8 MB/s eta 0:00:01\r\u001b[K     |██▋                             | 122 kB 10.8 MB/s eta 0:00:01\r\u001b[K     |██▉                             | 133 kB 10.8 MB/s eta 0:00:01\r\u001b[K     |███                             | 143 kB 10.8 MB/s eta 0:00:01\r\u001b[K     |███▎                            | 153 kB 10.8 MB/s eta 0:00:01\r\u001b[K     |███▌                            | 163 kB 10.8 MB/s eta 0:00:01\r\u001b[K     |███▊                            | 174 kB 10.8 MB/s eta 0:00:01\r\u001b[K     |████                            | 184 kB 10.8 MB/s eta 0:00:01\r\u001b[K     |████▏                           | 194 kB 10.8 MB/s eta 0:00:01\r\u001b[K     |████▍                           | 204 kB 10.8 MB/s eta 0:00:01\r\u001b[K     |████▋                           | 215 kB 10.8 MB/s eta 0:00:01\r\u001b[K     |████▉                           | 225 kB 10.8 MB/s eta 0:00:01\r\u001b[K     |█████                           | 235 kB 10.8 MB/s eta 0:00:01\r\u001b[K     |█████▎                          | 245 kB 10.8 MB/s eta 0:00:01\r\u001b[K     |█████▌                          | 256 kB 10.8 MB/s eta 0:00:01\r\u001b[K     |█████▊                          | 266 kB 10.8 MB/s eta 0:00:01\r\u001b[K     |██████                          | 276 kB 10.8 MB/s eta 0:00:01\r\u001b[K     |██████▏                         | 286 kB 10.8 MB/s eta 0:00:01\r\u001b[K     |██████▍                         | 296 kB 10.8 MB/s eta 0:00:01\r\u001b[K     |██████▋                         | 307 kB 10.8 MB/s eta 0:00:01\r\u001b[K     |██████▉                         | 317 kB 10.8 MB/s eta 0:00:01\r\u001b[K     |███████                         | 327 kB 10.8 MB/s eta 0:00:01\r\u001b[K     |███████▎                        | 337 kB 10.8 MB/s eta 0:00:01\r\u001b[K     |███████▌                        | 348 kB 10.8 MB/s eta 0:00:01\r\u001b[K     |███████▊                        | 358 kB 10.8 MB/s eta 0:00:01\r\u001b[K     |████████                        | 368 kB 10.8 MB/s eta 0:00:01\r\u001b[K     |████████▏                       | 378 kB 10.8 MB/s eta 0:00:01\r\u001b[K     |████████▍                       | 389 kB 10.8 MB/s eta 0:00:01\r\u001b[K     |████████▋                       | 399 kB 10.8 MB/s eta 0:00:01\r\u001b[K     |████████▊                       | 409 kB 10.8 MB/s eta 0:00:01\r\u001b[K     |█████████                       | 419 kB 10.8 MB/s eta 0:00:01\r\u001b[K     |█████████▏                      | 430 kB 10.8 MB/s eta 0:00:01\r\u001b[K     |█████████▍                      | 440 kB 10.8 MB/s eta 0:00:01\r\u001b[K     |█████████▋                      | 450 kB 10.8 MB/s eta 0:00:01\r\u001b[K     |█████████▉                      | 460 kB 10.8 MB/s eta 0:00:01\r\u001b[K     |██████████                      | 471 kB 10.8 MB/s eta 0:00:01\r\u001b[K     |██████████▎                     | 481 kB 10.8 MB/s eta 0:00:01\r\u001b[K     |██████████▌                     | 491 kB 10.8 MB/s eta 0:00:01\r\u001b[K     |██████████▊                     | 501 kB 10.8 MB/s eta 0:00:01\r\u001b[K     |███████████                     | 512 kB 10.8 MB/s eta 0:00:01\r\u001b[K     |███████████▏                    | 522 kB 10.8 MB/s eta 0:00:01\r\u001b[K     |███████████▍                    | 532 kB 10.8 MB/s eta 0:00:01\r\u001b[K     |███████████▋                    | 542 kB 10.8 MB/s eta 0:00:01\r\u001b[K     |███████████▉                    | 552 kB 10.8 MB/s eta 0:00:01\r\u001b[K     |████████████                    | 563 kB 10.8 MB/s eta 0:00:01\r\u001b[K     |████████████▎                   | 573 kB 10.8 MB/s eta 0:00:01\r\u001b[K     |████████████▌                   | 583 kB 10.8 MB/s eta 0:00:01\r\u001b[K     |████████████▊                   | 593 kB 10.8 MB/s eta 0:00:01\r\u001b[K     |█████████████                   | 604 kB 10.8 MB/s eta 0:00:01\r\u001b[K     |█████████████▏                  | 614 kB 10.8 MB/s eta 0:00:01\r\u001b[K     |█████████████▍                  | 624 kB 10.8 MB/s eta 0:00:01\r\u001b[K     |█████████████▋                  | 634 kB 10.8 MB/s eta 0:00:01\r\u001b[K     |█████████████▉                  | 645 kB 10.8 MB/s eta 0:00:01\r\u001b[K     |██████████████                  | 655 kB 10.8 MB/s eta 0:00:01\r\u001b[K     |██████████████▎                 | 665 kB 10.8 MB/s eta 0:00:01\r\u001b[K     |██████████████▌                 | 675 kB 10.8 MB/s eta 0:00:01\r\u001b[K     |██████████████▊                 | 686 kB 10.8 MB/s eta 0:00:01\r\u001b[K     |███████████████                 | 696 kB 10.8 MB/s eta 0:00:01\r\u001b[K     |███████████████▏                | 706 kB 10.8 MB/s eta 0:00:01\r\u001b[K     |███████████████▍                | 716 kB 10.8 MB/s eta 0:00:01\r\u001b[K     |███████████████▋                | 727 kB 10.8 MB/s eta 0:00:01\r\u001b[K     |███████████████▉                | 737 kB 10.8 MB/s eta 0:00:01\r\u001b[K     |████████████████                | 747 kB 10.8 MB/s eta 0:00:01\r\u001b[K     |████████████████▎               | 757 kB 10.8 MB/s eta 0:00:01\r\u001b[K     |████████████████▌               | 768 kB 10.8 MB/s eta 0:00:01\r\u001b[K     |████████████████▊               | 778 kB 10.8 MB/s eta 0:00:01\r\u001b[K     |█████████████████               | 788 kB 10.8 MB/s eta 0:00:01\r\u001b[K     |█████████████████▏              | 798 kB 10.8 MB/s eta 0:00:01\r\u001b[K     |█████████████████▍              | 808 kB 10.8 MB/s eta 0:00:01\r\u001b[K     |█████████████████▌              | 819 kB 10.8 MB/s eta 0:00:01\r\u001b[K     |█████████████████▊              | 829 kB 10.8 MB/s eta 0:00:01\r\u001b[K     |██████████████████              | 839 kB 10.8 MB/s eta 0:00:01\r\u001b[K     |██████████████████▏             | 849 kB 10.8 MB/s eta 0:00:01\r\u001b[K     |██████████████████▍             | 860 kB 10.8 MB/s eta 0:00:01\r\u001b[K     |██████████████████▋             | 870 kB 10.8 MB/s eta 0:00:01\r\u001b[K     |██████████████████▉             | 880 kB 10.8 MB/s eta 0:00:01\r\u001b[K     |███████████████████             | 890 kB 10.8 MB/s eta 0:00:01\r\u001b[K     |███████████████████▎            | 901 kB 10.8 MB/s eta 0:00:01\r\u001b[K     |███████████████████▌            | 911 kB 10.8 MB/s eta 0:00:01\r\u001b[K     |███████████████████▊            | 921 kB 10.8 MB/s eta 0:00:01\r\u001b[K     |████████████████████            | 931 kB 10.8 MB/s eta 0:00:01\r\u001b[K     |████████████████████▏           | 942 kB 10.8 MB/s eta 0:00:01\r\u001b[K     |████████████████████▍           | 952 kB 10.8 MB/s eta 0:00:01\r\u001b[K     |████████████████████▋           | 962 kB 10.8 MB/s eta 0:00:01\r\u001b[K     |████████████████████▉           | 972 kB 10.8 MB/s eta 0:00:01\r\u001b[K     |█████████████████████           | 983 kB 10.8 MB/s eta 0:00:01\r\u001b[K     |█████████████████████▎          | 993 kB 10.8 MB/s eta 0:00:01\r\u001b[K     |█████████████████████▌          | 1.0 MB 10.8 MB/s eta 0:00:01\r\u001b[K     |█████████████████████▊          | 1.0 MB 10.8 MB/s eta 0:00:01\r\u001b[K     |██████████████████████          | 1.0 MB 10.8 MB/s eta 0:00:01\r\u001b[K     |██████████████████████▏         | 1.0 MB 10.8 MB/s eta 0:00:01\r\u001b[K     |██████████████████████▍         | 1.0 MB 10.8 MB/s eta 0:00:01\r\u001b[K     |██████████████████████▋         | 1.1 MB 10.8 MB/s eta 0:00:01\r\u001b[K     |██████████████████████▉         | 1.1 MB 10.8 MB/s eta 0:00:01\r\u001b[K     |███████████████████████         | 1.1 MB 10.8 MB/s eta 0:00:01\r\u001b[K     |███████████████████████▎        | 1.1 MB 10.8 MB/s eta 0:00:01\r\u001b[K     |███████████████████████▌        | 1.1 MB 10.8 MB/s eta 0:00:01\r\u001b[K     |███████████████████████▊        | 1.1 MB 10.8 MB/s eta 0:00:01\r\u001b[K     |████████████████████████        | 1.1 MB 10.8 MB/s eta 0:00:01\r\u001b[K     |████████████████████████▏       | 1.1 MB 10.8 MB/s eta 0:00:01\r\u001b[K     |████████████████████████▍       | 1.1 MB 10.8 MB/s eta 0:00:01\r\u001b[K     |████████████████████████▋       | 1.1 MB 10.8 MB/s eta 0:00:01\r\u001b[K     |████████████████████████▉       | 1.2 MB 10.8 MB/s eta 0:00:01\r\u001b[K     |█████████████████████████       | 1.2 MB 10.8 MB/s eta 0:00:01\r\u001b[K     |█████████████████████████▎      | 1.2 MB 10.8 MB/s eta 0:00:01\r\u001b[K     |█████████████████████████▌      | 1.2 MB 10.8 MB/s eta 0:00:01\r\u001b[K     |█████████████████████████▊      | 1.2 MB 10.8 MB/s eta 0:00:01\r\u001b[K     |██████████████████████████      | 1.2 MB 10.8 MB/s eta 0:00:01\r\u001b[K     |██████████████████████████▏     | 1.2 MB 10.8 MB/s eta 0:00:01\r\u001b[K     |██████████████████████████▎     | 1.2 MB 10.8 MB/s eta 0:00:01\r\u001b[K     |██████████████████████████▌     | 1.2 MB 10.8 MB/s eta 0:00:01\r\u001b[K     |██████████████████████████▊     | 1.2 MB 10.8 MB/s eta 0:00:01\r\u001b[K     |███████████████████████████     | 1.3 MB 10.8 MB/s eta 0:00:01\r\u001b[K     |███████████████████████████▏    | 1.3 MB 10.8 MB/s eta 0:00:01\r\u001b[K     |███████████████████████████▍    | 1.3 MB 10.8 MB/s eta 0:00:01\r\u001b[K     |███████████████████████████▋    | 1.3 MB 10.8 MB/s eta 0:00:01\r\u001b[K     |███████████████████████████▉    | 1.3 MB 10.8 MB/s eta 0:00:01\r\u001b[K     |████████████████████████████    | 1.3 MB 10.8 MB/s eta 0:00:01\r\u001b[K     |████████████████████████████▎   | 1.3 MB 10.8 MB/s eta 0:00:01\r\u001b[K     |████████████████████████████▌   | 1.3 MB 10.8 MB/s eta 0:00:01\r\u001b[K     |████████████████████████████▊   | 1.3 MB 10.8 MB/s eta 0:00:01\r\u001b[K     |█████████████████████████████   | 1.4 MB 10.8 MB/s eta 0:00:01\r\u001b[K     |█████████████████████████████▏  | 1.4 MB 10.8 MB/s eta 0:00:01\r\u001b[K     |█████████████████████████████▍  | 1.4 MB 10.8 MB/s eta 0:00:01\r\u001b[K     |█████████████████████████████▋  | 1.4 MB 10.8 MB/s eta 0:00:01\r\u001b[K     |█████████████████████████████▉  | 1.4 MB 10.8 MB/s eta 0:00:01\r\u001b[K     |██████████████████████████████  | 1.4 MB 10.8 MB/s eta 0:00:01\r\u001b[K     |██████████████████████████████▎ | 1.4 MB 10.8 MB/s eta 0:00:01\r\u001b[K     |██████████████████████████████▌ | 1.4 MB 10.8 MB/s eta 0:00:01\r\u001b[K     |██████████████████████████████▊ | 1.4 MB 10.8 MB/s eta 0:00:01\r\u001b[K     |███████████████████████████████ | 1.4 MB 10.8 MB/s eta 0:00:01\r\u001b[K     |███████████████████████████████▏| 1.5 MB 10.8 MB/s eta 0:00:01\r\u001b[K     |███████████████████████████████▍| 1.5 MB 10.8 MB/s eta 0:00:01\r\u001b[K     |███████████████████████████████▋| 1.5 MB 10.8 MB/s eta 0:00:01\r\u001b[K     |███████████████████████████████▉| 1.5 MB 10.8 MB/s eta 0:00:01\r\u001b[K     |████████████████████████████████| 1.5 MB 10.8 MB/s \n",
            "\u001b[?25hRequirement already satisfied: tqdm in /usr/local/lib/python3.7/dist-packages (from nltk) (4.63.0)\n",
            "Requirement already satisfied: joblib in /usr/local/lib/python3.7/dist-packages (from nltk) (1.1.0)\n",
            "Requirement already satisfied: click in /usr/local/lib/python3.7/dist-packages (from nltk) (7.1.2)\n",
            "Collecting regex>=2021.8.3\n",
            "  Downloading regex-2022.3.2-cp37-cp37m-manylinux_2_17_x86_64.manylinux2014_x86_64.whl (749 kB)\n",
            "\u001b[K     |████████████████████████████████| 749 kB 44.9 MB/s \n",
            "\u001b[?25hInstalling collected packages: regex, nltk\n",
            "  Attempting uninstall: regex\n",
            "    Found existing installation: regex 2019.12.20\n",
            "    Uninstalling regex-2019.12.20:\n",
            "      Successfully uninstalled regex-2019.12.20\n",
            "Successfully installed nltk-3.7 regex-2022.3.2\n"
          ]
        }
      ],
      "source": [
        "pip install nltk"
      ]
    },
    {
      "cell_type": "code",
      "execution_count": null,
      "metadata": {
        "colab": {
          "base_uri": "https://localhost:8080/"
        },
        "id": "6hzd3jQud4KY",
        "outputId": "fd5bfc81-d539-45c9-cd21-9b0710946a4a"
      },
      "outputs": [
        {
          "name": "stdout",
          "output_type": "stream",
          "text": [
            "Collecting newspaper3k\n",
            "  Downloading newspaper3k-0.2.8-py3-none-any.whl (211 kB)\n",
            "\u001b[K     |████████████████████████████████| 211 kB 27.9 MB/s \n",
            "\u001b[?25hCollecting tldextract>=2.0.1\n",
            "  Downloading tldextract-3.2.0-py3-none-any.whl (87 kB)\n",
            "\u001b[K     |████████████████████████████████| 87 kB 5.4 MB/s \n",
            "\u001b[?25hCollecting jieba3k>=0.35.1\n",
            "  Downloading jieba3k-0.35.1.zip (7.4 MB)\n",
            "\u001b[K     |████████████████████████████████| 7.4 MB 56.8 MB/s \n",
            "\u001b[?25hCollecting cssselect>=0.9.2\n",
            "  Downloading cssselect-1.1.0-py2.py3-none-any.whl (16 kB)\n",
            "Collecting feedfinder2>=0.0.4\n",
            "  Downloading feedfinder2-0.0.4.tar.gz (3.3 kB)\n",
            "Collecting feedparser>=5.2.1\n",
            "  Downloading feedparser-6.0.8-py3-none-any.whl (81 kB)\n",
            "\u001b[K     |████████████████████████████████| 81 kB 8.1 MB/s \n",
            "\u001b[?25hRequirement already satisfied: python-dateutil>=2.5.3 in /usr/local/lib/python3.7/dist-packages (from newspaper3k) (2.8.2)\n",
            "Collecting tinysegmenter==0.3\n",
            "  Downloading tinysegmenter-0.3.tar.gz (16 kB)\n",
            "Requirement already satisfied: requests>=2.10.0 in /usr/local/lib/python3.7/dist-packages (from newspaper3k) (2.23.0)\n",
            "Requirement already satisfied: Pillow>=3.3.0 in /usr/local/lib/python3.7/dist-packages (from newspaper3k) (7.1.2)\n",
            "Requirement already satisfied: PyYAML>=3.11 in /usr/local/lib/python3.7/dist-packages (from newspaper3k) (3.13)\n",
            "Requirement already satisfied: beautifulsoup4>=4.4.1 in /usr/local/lib/python3.7/dist-packages (from newspaper3k) (4.6.3)\n",
            "Requirement already satisfied: lxml>=3.6.0 in /usr/local/lib/python3.7/dist-packages (from newspaper3k) (4.2.6)\n",
            "Requirement already satisfied: nltk>=3.2.1 in /usr/local/lib/python3.7/dist-packages (from newspaper3k) (3.7)\n",
            "Requirement already satisfied: six in /usr/local/lib/python3.7/dist-packages (from feedfinder2>=0.0.4->newspaper3k) (1.15.0)\n",
            "Collecting sgmllib3k\n",
            "  Downloading sgmllib3k-1.0.0.tar.gz (5.8 kB)\n",
            "Requirement already satisfied: joblib in /usr/local/lib/python3.7/dist-packages (from nltk>=3.2.1->newspaper3k) (1.1.0)\n",
            "Requirement already satisfied: click in /usr/local/lib/python3.7/dist-packages (from nltk>=3.2.1->newspaper3k) (7.1.2)\n",
            "Requirement already satisfied: tqdm in /usr/local/lib/python3.7/dist-packages (from nltk>=3.2.1->newspaper3k) (4.63.0)\n",
            "Requirement already satisfied: regex>=2021.8.3 in /usr/local/lib/python3.7/dist-packages (from nltk>=3.2.1->newspaper3k) (2022.3.2)\n",
            "Requirement already satisfied: certifi>=2017.4.17 in /usr/local/lib/python3.7/dist-packages (from requests>=2.10.0->newspaper3k) (2021.10.8)\n",
            "Requirement already satisfied: urllib3!=1.25.0,!=1.25.1,<1.26,>=1.21.1 in /usr/local/lib/python3.7/dist-packages (from requests>=2.10.0->newspaper3k) (1.24.3)\n",
            "Requirement already satisfied: chardet<4,>=3.0.2 in /usr/local/lib/python3.7/dist-packages (from requests>=2.10.0->newspaper3k) (3.0.4)\n",
            "Requirement already satisfied: idna<3,>=2.5 in /usr/local/lib/python3.7/dist-packages (from requests>=2.10.0->newspaper3k) (2.10)\n",
            "Requirement already satisfied: filelock>=3.0.8 in /usr/local/lib/python3.7/dist-packages (from tldextract>=2.0.1->newspaper3k) (3.6.0)\n",
            "Collecting requests-file>=1.4\n",
            "  Downloading requests_file-1.5.1-py2.py3-none-any.whl (3.7 kB)\n",
            "Building wheels for collected packages: tinysegmenter, feedfinder2, jieba3k, sgmllib3k\n",
            "  Building wheel for tinysegmenter (setup.py) ... \u001b[?25l\u001b[?25hdone\n",
            "  Created wheel for tinysegmenter: filename=tinysegmenter-0.3-py3-none-any.whl size=13553 sha256=ffa60798ab97aeb05ff39e2db713a656de52f021851a1cd7354ed5dfb3012789\n",
            "  Stored in directory: /root/.cache/pip/wheels/df/67/41/faca10fa501ca010be41b49d40360c2959e1c4f09bcbfa37fa\n",
            "  Building wheel for feedfinder2 (setup.py) ... \u001b[?25l\u001b[?25hdone\n",
            "  Created wheel for feedfinder2: filename=feedfinder2-0.0.4-py3-none-any.whl size=3357 sha256=d0456cda7acb920d5d4b8f3dc108abbe906d63702783dc94221bd0186c2a505f\n",
            "  Stored in directory: /root/.cache/pip/wheels/7f/d4/8f/6e2ca54744c9d7292d88ddb8d42876bcdab5e6d84a21c10346\n",
            "  Building wheel for jieba3k (setup.py) ... \u001b[?25l\u001b[?25hdone\n",
            "  Created wheel for jieba3k: filename=jieba3k-0.35.1-py3-none-any.whl size=7398404 sha256=076a97838b5477bf4c048cdebd1547381ad06b0d8293a88f0fce37d5703cd990\n",
            "  Stored in directory: /root/.cache/pip/wheels/4c/91/46/3c208287b726df325a5979574324878b679116e4baae1af3c3\n",
            "  Building wheel for sgmllib3k (setup.py) ... \u001b[?25l\u001b[?25hdone\n",
            "  Created wheel for sgmllib3k: filename=sgmllib3k-1.0.0-py3-none-any.whl size=6066 sha256=77d41e0db4a67df9a92f28bfb58c40eb414ef59966a6f9d231f23ed25b8b4e32\n",
            "  Stored in directory: /root/.cache/pip/wheels/73/ad/a4/0dff4a6ef231fc0dfa12ffbac2a36cebfdddfe059f50e019aa\n",
            "Successfully built tinysegmenter feedfinder2 jieba3k sgmllib3k\n",
            "Installing collected packages: sgmllib3k, requests-file, tldextract, tinysegmenter, jieba3k, feedparser, feedfinder2, cssselect, newspaper3k\n",
            "Successfully installed cssselect-1.1.0 feedfinder2-0.0.4 feedparser-6.0.8 jieba3k-0.35.1 newspaper3k-0.2.8 requests-file-1.5.1 sgmllib3k-1.0.0 tinysegmenter-0.3 tldextract-3.2.0\n"
          ]
        }
      ],
      "source": [
        "pip install newspaper3k"
      ]
    },
    {
      "cell_type": "code",
      "execution_count": null,
      "metadata": {
        "id": "_bwt8mCVd8qX"
      },
      "outputs": [],
      "source": [
        "#import the packages\n",
        "from newspaper import Article\n",
        "import random\n",
        "import string\n",
        "import numpy as np\n",
        "import warnings\n",
        "import nltk\n",
        "from sklearn.feature_extraction.text import TfidfVectorizer\n",
        "from sklearn.metrics.pairwise import cosine_similarity"
      ]
    },
    {
      "cell_type": "code",
      "execution_count": null,
      "metadata": {
        "id": "hdjUrblqd-wr"
      },
      "outputs": [],
      "source": [
        "#ignore the warnings\n",
        "warnings.filterwarnings('ignore')"
      ]
    },
    {
      "cell_type": "code",
      "execution_count": null,
      "metadata": {
        "colab": {
          "base_uri": "https://localhost:8080/"
        },
        "id": "0TMUX2CZeCPo",
        "outputId": "75738b50-0e0a-467a-c4b4-a4a9849cab38"
      },
      "outputs": [
        {
          "data": {
            "text/plain": [
              "True"
            ]
          },
          "execution_count": 7,
          "metadata": {},
          "output_type": "execute_result"
        }
      ],
      "source": [
        "#download package from nltk\n",
        "nltk.download('punkt',quiet=True)\n",
        "nltk.download('wordnet',quiet=True)"
      ]
    },
    {
      "cell_type": "code",
      "execution_count": null,
      "metadata": {
        "colab": {
          "base_uri": "https://localhost:8080/"
        },
        "id": "0Kyg0Tz1eDi2",
        "outputId": "2f7ec911-2049-4608-ccee-c407137630ab"
      },
      "outputs": [
        {
          "name": "stdout",
          "output_type": "stream",
          "text": [
            "Prevention of disease and promotion of wellbeing\n",
            "\n",
            "Not to be confused with Medical Care (journal)\n",
            "\n",
            "Global concentrations of health care resources, as depicted by the number of physicians per 10,000 individuals, by country. Data is sourced from a World Health Statistics 2010, a WHO report.\n",
            "\n",
            "Health care is the maintenance or improvement of health via the prevention, diagnosis, treatment, amelioration, or cure of disease, illness, injury, and other physical and mental impairments in people. Health care is delivered by health professionals and allied health fields. Medicine, dentistry, pharmacy, midwifery, nursing, optometry, audiology, psychology, occupational therapy, physical therapy, athletic training, and other health professions are all part of health care. It includes work done in providing primary care, secondary care, and tertiary care, as well as in public health.\n",
            "\n",
            "Access to health care may vary across countries, communities, and individuals, influenced by social and economic conditions as well as health policies. Providing health care services means \"the timely use of personal health services to achieve the best possible health outcomes\".[2] Factors to consider in terms of health care access include financial limitations (such as insurance coverage), geographic barriers (such as additional transportation costs, the possibility to take paid time off of work to use such services), and personal limitations (lack of ability to communicate with health care providers, poor health literacy, low income).[3] Limitations to health care services affects negatively the use of medical services, the efficacy of treatments, and overall outcome (well-being, mortality rates).\n",
            "\n",
            "Health care systems are organizations established to meet the health needs of targeted populations. According to the World Health Organization (WHO), a well-functioning health care system requires a financing mechanism, a well-trained and adequately paid workforce, reliable information on which to base decisions and policies, and well-maintained health facilities to deliver quality medicines and technologies.\n",
            "\n",
            "An efficient health care system can contribute to a significant part of a country's economy, development, and industrialization. Health care is conventionally regarded as an important determinant in promoting the general physical and mental health and well-being of people around the world.[4] An example of this was the worldwide eradication of smallpox in 1980, declared by the WHO as the first disease in human history to be eliminated by deliberate health care interventions.[5]\n",
            "\n",
            "Delivery [ edit ]\n",
            "\n",
            "Primary care may be provided in community health centers.\n",
            "\n",
            "The delivery of modern health care depends on groups of trained professionals and paraprofessionals coming together as interdisciplinary teams.[6] This includes professionals in medicine, psychology, physiotherapy, nursing, dentistry, midwifery and allied health, along with many others such as public health practitioners, community health workers and assistive personnel, who systematically provide personal and population-based preventive, curative and rehabilitative care services.\n",
            "\n",
            "While the definitions of the various types of health care vary depending on the different cultural, political, organizational, and disciplinary perspectives, there appears to be some consensus that primary care constitutes the first element of a continuing health care process and may also include the provision of secondary and tertiary levels of care.[7] Health care can be defined as either public or private.\n",
            "\n",
            "The emergency room is often a frontline venue for the delivery of primary medical care.\n",
            "\n",
            "Primary care [ edit ]\n",
            "\n",
            "Primary care refers to the work of health professionals who act as a first point of consultation for all patients within the health care system.[7][9] Such a professional would usually be a primary care physician, such as a general practitioner or family physician. Another professional would be a licensed independent practitioner such as a physiotherapist, or a non-physician primary care provider such as a physician assistant or nurse practitioner. Depending on the locality, health system organization the patient may see another health care professional first, such as a pharmacist or nurse. Depending on the nature of the health condition, patients may be referred for secondary or tertiary care.\n",
            "\n",
            "Primary care is often used as the term for the health care services that play a role in the local community. It can be provided in different settings, such as Urgent care centers that provide same-day appointments or services on a walk-in basis.\n",
            "\n",
            "Primary care involves the widest scope of health care, including all ages of patients, patients of all socioeconomic and geographic origins, patients seeking to maintain optimal health, and patients with all types of acute and chronic physical, mental and social health issues, including multiple chronic diseases. Consequently, a primary care practitioner must possess a wide breadth of knowledge in many areas. Continuity is a key characteristic of primary care, as patients usually prefer to consult the same practitioner for routine check-ups and preventive care, health education, and every time they require an initial consultation about a new health problem. The International Classification of Primary Care (ICPC) is a standardized tool for understanding and analyzing information on interventions in primary care based on the reason for the patient's visit.[10]\n",
            "\n",
            "Common chronic illnesses usually treated in primary care may include, for example, hypertension, diabetes, asthma, COPD, depression and anxiety, back pain, arthritis or thyroid dysfunction. Primary care also includes many basic maternal and child health care services, such as family planning services and vaccinations. In the United States, the 2013 National Health Interview Survey found that skin disorders (42.7%), osteoarthritis and joint disorders (33.6%), back problems (23.9%), disorders of lipid metabolism (22.4%), and upper respiratory tract disease (22.1%, excluding asthma) were the most common reasons for accessing a physician.[11]\n",
            "\n",
            "In the United States, primary care physicians have begun to deliver primary care outside of the managed care (insurance-billing) system through direct primary care which is a subset of the more familiar concierge medicine. Physicians in this model bill patients directly for services, either on a pre-paid monthly, quarterly, or annual basis, or bill for each service in the office. Examples of direct primary care practices include Foundation Health in Colorado and Qliance in Washington.\n",
            "\n",
            "In the context of global population aging, with increasing numbers of older adults at greater risk of chronic non-communicable diseases, rapidly increasing demand for primary care services is expected in both developed and developing countries.[12][13] The World Health Organization attributes the provision of essential primary care as an integral component of an inclusive primary health care strategy.[7]\n",
            "\n",
            "Secondary care [ edit ]\n",
            "\n",
            "Secondary care includes acute care: necessary treatment for a short period of time for a brief but serious illness, injury, or other health condition. This care is often found in a hospital emergency department. Secondary care also includes skilled attendance during childbirth, intensive care, and medical imaging services.[14]\n",
            "\n",
            "The term \"secondary care\" is sometimes used synonymously with \"hospital care\". However, many secondary care providers, such as psychiatrists, clinical psychologists, occupational therapists, most dental specialties or physiotherapists, do not necessarily work in hospitals. Some primary care services are delivered within hospitals. Depending on the organization and policies of the national health system, patients may be required to see a primary care provider for a referral before they can access secondary care.[15][16]\n",
            "\n",
            "In countries that operate under a mixed market health care system, some physicians limit their practice to secondary care by requiring patients to see a primary care provider first. This restriction may be imposed under the terms of the payment agreements in private or group health insurance plans. In other cases, medical specialists may see patients without a referral, and patients may decide whether self-referral is preferred.\n",
            "\n",
            "In other countries patient self-referral to a medical specialist for secondary care is rare as prior referral from another physician (either a primary care physician or another specialist) is considered necessary, regardless of whether the funding is from private insurance schemes or national health insurance.\n",
            "\n",
            "Allied health professionals, such as physical therapists, respiratory therapists, occupational therapists, speech therapists, and dietitians, also generally work in secondary care, accessed through either patient self-referral or through physician referral.\n",
            "\n",
            "Tertiary care [ edit ]\n",
            "\n",
            "Tertiary care is specialized consultative health care, usually for inpatients and on referral from a primary or secondary health professional, in a facility that has personnel and facilities for advanced medical investigation and treatment, such as a tertiary referral hospital.[17]\n",
            "\n",
            "Examples of tertiary care services are cancer management, neurosurgery, cardiac surgery, plastic surgery, treatment for severe burns, advanced neonatology services, palliative, and other complex medical and surgical interventions.[18]\n",
            "\n",
            "Quaternary care [ edit ]\n",
            "\n",
            "The term quaternary care is sometimes used as an extension of tertiary care in reference to advanced levels of medicine which are highly specialized and not widely accessed. Experimental medicine and some types of uncommon diagnostic or surgical procedures are considered quaternary care. These services are usually only offered in a limited number of regional or national health care centers.[18][19]\n",
            "\n",
            "Home and community care [ edit ]\n",
            "\n",
            "Many types of health care interventions are delivered outside of health facilities. They include many interventions of public health interest, such as food safety surveillance, distribution of condoms and needle-exchange programs for the prevention of transmissible diseases.\n",
            "\n",
            "They also include the services of professionals in residential and community settings in support of self-care, home care, long-term care, assisted living, treatment for substance use disorders among other types of health and social care services.\n",
            "\n",
            "Community rehabilitation services can assist with mobility and independence after the loss of limbs or loss of function. This can include prostheses, orthotics, or wheelchairs.\n",
            "\n",
            "Many countries, especially in the west, are dealing with aging populations, so one of the priorities of the health care system is to help seniors live full, independent lives in the comfort of their own homes. There is an entire section of health care geared to providing seniors with help in day-to-day activities at home such as transportation to and from doctor's appointments along with many other activities that are essential for their health and well-being. Although they provide home care for older adults in cooperation, family members and care workers may harbor diverging attitudes and values towards their joint efforts. This state of affairs presents a challenge for the design of ICT (information and communication technology) for home care.[20]\n",
            "\n",
            "Because statistics show that over 80 million Americans have taken time off of their primary employment to care for a loved one,[21] many countries have begun offering programs such as the Consumer Directed Personal Assistant Program to allow family members to take care of their loved ones without giving up their entire income.[citation needed]\n",
            "\n",
            "With obesity in children rapidly becoming a major concern, health services often set up programs in schools aimed at educating children about nutritional eating habits, making physical education a requirement and teaching young adolescents to have a positive self-image.[citation needed]\n",
            "\n",
            "Ratings [ edit ]\n",
            "\n",
            "Health care ratings are ratings or evaluations of health care used to evaluate the process of care and health care structures and/or outcomes of health care services. This information is translated into report cards that are generated by quality organizations, nonprofit, consumer groups and media. This evaluation of quality is based on measures of:\n",
            "\n",
            "hospital quality\n",
            "\n",
            "health plan quality\n",
            "\n",
            "physician quality\n",
            "\n",
            "MERHS healthcare treatment\n",
            "\n",
            "quality for other health professionals\n",
            "\n",
            "of patient experience\n",
            "\n",
            "Related sectors [ edit ]\n",
            "\n",
            "Health care extends beyond the delivery of services to patients, encompassing many related sectors, and is set within a bigger picture of financing and governance structures.\n",
            "\n",
            "Health system [ edit ]\n",
            "\n",
            "A health system, also sometimes referred to as health care system or healthcare system, is the organization of people, institutions, and resources that deliver health care services to populations in need.\n",
            "\n",
            "Healthcare industry [ edit ]\n",
            "\n",
            "The healthcare industry incorporates several sectors that are dedicated to providing health care services and products. As a basic framework for defining the sector, the United Nations' International Standard Industrial Classification categorizes health care as generally consisting of hospital activities, medical and dental practice activities, and \"other human health activities.\" The last class involves activities of, or under the supervision of, nurses, midwives, physiotherapists, scientific or diagnostic laboratories, pathology clinics, residential health facilities, patient advocates[22] or other allied health professions.\n",
            "\n",
            "In addition, according to industry and market classifications, such as the Global Industry Classification Standard and the Industry Classification Benchmark, health care includes many categories of medical equipment, instruments and services including biotechnology, diagnostic laboratories and substances, drug manufacturing and delivery.\n",
            "\n",
            "For example, pharmaceuticals and other medical devices are the leading high technology exports of Europe and the United States.[23][24] The United States dominates the biopharmaceutical field, accounting for three-quarters of the world's biotechnology revenues.[23][25]\n",
            "\n",
            "Health care research [ edit ]\n",
            "\n",
            "For a topical guide to this subject, see Healthcare science\n",
            "\n",
            "The quantity and quality of many health care interventions are improved through the results of science, such as advanced through the medical model of health which focuses on the eradication of illness through diagnosis and effective treatment. Many important advances have been made through health research, biomedical research and pharmaceutical research, which form the basis for evidence-based medicine and evidence-based practice in health care delivery. Health care research frequently engages directly with patients, and as such issues for whom to engage and how to engage with them become important to consider when seeking to actively include them in studies. While single best practice does not exist, the results of a systematic review on patient engagement suggest that research methods for patient selection need to account for both patient availability and willingness to engage.[26]\n",
            "\n",
            "Health services research can lead to greater efficiency and equitable delivery of health care interventions, as advanced through the social model of health and disability, which emphasizes the societal changes that can be made to make populations healthier.[27] Results from health services research often form the basis of evidence-based policy in health care systems. Health services research is also aided by initiatives in the field of artificial intelligence for the development of systems of health assessment that are clinically useful, timely, sensitive to change, culturally sensitive, low-burden, low-cost, built into standard procedures, and involve the patient.[28]\n",
            "\n",
            "Health care financing [ edit ]\n",
            "\n",
            "See or edit source data. [29] Total health spending as a fraction of GDP.\n",
            "\n",
            "There are generally five primary methods of funding health care systems:[30]\n",
            "\n",
            "In most countries, there is a mix of all five models, but this varies across countries and over time within countries. Aside from financing mechanisms, an important question should always be how much to spend on health ccare. For the purposes of comparison, this is often expressed as the percentage of GDP spent on health care. In OECD countries for every extra $1000 spent on health care, life expectancy falls by 0.4 years.[31] A similar correlation is seen from the analysis carried out each year by Bloomberg.[32] Clearly this kind of analysis is flawed in that life expectancy is only one measure of a health system's performance, but equally, the notion that more funding is better is not supported.\n",
            "\n",
            "In 2011, the health care industry consumed an average of 9.3 percent of the GDP or US$ 3,322 (PPP-adjusted) per capita across the 34 members of OECD countries. The US (17.7%, or US$ PPP 8,508), the Netherlands (11.9%, 5,099), France (11.6%, 4,118), Germany (11.3%, 4,495), Canada (11.2%, 5669), and Switzerland (11%, 5,634) were the top spenders, however life expectancy in total population at birth was highest in Switzerland (82.8 years), Japan and Italy (82.7), Spain and Iceland (82.4), France (82.2) and Australia (82.0), while OECD's average exceeds 80 years for the first time ever in 2011: 80.1 years, a gain of 10 years since 1970. The US (78.7 years) ranges only on place 26 among the 34 OECD member countries, but has the highest costs by far. All OECD countries have achieved universal (or almost universal) health coverage, except the US and Mexico.[33][34] (see also international comparisons.)\n",
            "\n",
            "In the United States, where around 18% of GDP is spent on health care,[32] the Commonwealth Fund analysis of spend and quality shows a clear correlation between worse quality and higher spending.[35]\n",
            "\n",
            "Administration and regulation [ edit ]\n",
            "\n",
            "The management and administration of health care is vital to the delivery of health care services. In particular, the practice of health professionals and the operation of health care institutions is typically regulated by national or state/provincial authorities through appropriate regulatory bodies for purposes of quality assurance.[36] Most countries have credentialing staff in regulatory boards or health departments who document the certification or licensing of health workers and their work history.[37]\n",
            "\n",
            "Health information technology [ edit ]\n",
            "\n",
            "Health information technology (HIT) is \"the application of information processing involving both computer hardware and software that deals with the storage, retrieval, sharing, and use of health care information, data, and knowledge for communication and decision making.\"[38]\n",
            "\n",
            "Health information technology components:\n",
            "\n",
            "See also [ edit ]\n",
            "\n",
            "By country:\n",
            "\n",
            "References [ edit ]\n"
          ]
        }
      ],
      "source": [
        "#get artical url\n",
        "# article= Article('https://www.cdc.gov/heartdisease/journal_articles.htm')\n",
        "# article= Article('https://www.mayoclinic.org/diseases-conditions/parkinsons-disease/symptoms-causes/syc-20376055')\n",
        "# article = Article('https://en.wikipedia.org/wiki/Healthcare_in_India')   \n",
        "article= Article('https://en.wikipedia.org/wiki/Health_care') \n",
        "article.download()\n",
        "article.parse()\n",
        "article.nlp()\n",
        "arword=article.text\n",
        "#print\n",
        "print(arword)"
      ]
    },
    {
      "cell_type": "code",
      "execution_count": null,
      "metadata": {
        "colab": {
          "base_uri": "https://localhost:8080/"
        },
        "id": "olwv_EQveHSx",
        "outputId": "177c5869-fd36-4a51-b2d3-2dd85b283c2a"
      },
      "outputs": [
        {
          "name": "stdout",
          "output_type": "stream",
          "text": [
            "['Prevention of disease and promotion of wellbeing\\n\\nNot to be confused with Medical Care (journal)\\n\\nGlobal concentrations of health care resources, as depicted by the number of physicians per 10,000 individuals, by country.', 'Data is sourced from a World Health Statistics 2010, a WHO report.', 'Health care is the maintenance or improvement of health via the prevention, diagnosis, treatment, amelioration, or cure of disease, illness, injury, and other physical and mental impairments in people.', 'Health care is delivered by health professionals and allied health fields.', 'Medicine, dentistry, pharmacy, midwifery, nursing, optometry, audiology, psychology, occupational therapy, physical therapy, athletic training, and other health professions are all part of health care.', 'It includes work done in providing primary care, secondary care, and tertiary care, as well as in public health.', 'Access to health care may vary across countries, communities, and individuals, influenced by social and economic conditions as well as health policies.', 'Providing health care services means \"the timely use of personal health services to achieve the best possible health outcomes\".', '[2] Factors to consider in terms of health care access include financial limitations (such as insurance coverage), geographic barriers (such as additional transportation costs, the possibility to take paid time off of work to use such services), and personal limitations (lack of ability to communicate with health care providers, poor health literacy, low income).', '[3] Limitations to health care services affects negatively the use of medical services, the efficacy of treatments, and overall outcome (well-being, mortality rates).', 'Health care systems are organizations established to meet the health needs of targeted populations.', 'According to the World Health Organization (WHO), a well-functioning health care system requires a financing mechanism, a well-trained and adequately paid workforce, reliable information on which to base decisions and policies, and well-maintained health facilities to deliver quality medicines and technologies.', \"An efficient health care system can contribute to a significant part of a country's economy, development, and industrialization.\", 'Health care is conventionally regarded as an important determinant in promoting the general physical and mental health and well-being of people around the world.', '[4] An example of this was the worldwide eradication of smallpox in 1980, declared by the WHO as the first disease in human history to be eliminated by deliberate health care interventions.', '[5]\\n\\nDelivery [ edit ]\\n\\nPrimary care may be provided in community health centers.', 'The delivery of modern health care depends on groups of trained professionals and paraprofessionals coming together as interdisciplinary teams.', '[6] This includes professionals in medicine, psychology, physiotherapy, nursing, dentistry, midwifery and allied health, along with many others such as public health practitioners, community health workers and assistive personnel, who systematically provide personal and population-based preventive, curative and rehabilitative care services.', 'While the definitions of the various types of health care vary depending on the different cultural, political, organizational, and disciplinary perspectives, there appears to be some consensus that primary care constitutes the first element of a continuing health care process and may also include the provision of secondary and tertiary levels of care.', '[7] Health care can be defined as either public or private.', 'The emergency room is often a frontline venue for the delivery of primary medical care.', 'Primary care [ edit ]\\n\\nPrimary care refers to the work of health professionals who act as a first point of consultation for all patients within the health care system.', '[7][9] Such a professional would usually be a primary care physician, such as a general practitioner or family physician.', 'Another professional would be a licensed independent practitioner such as a physiotherapist, or a non-physician primary care provider such as a physician assistant or nurse practitioner.', 'Depending on the locality, health system organization the patient may see another health care professional first, such as a pharmacist or nurse.', 'Depending on the nature of the health condition, patients may be referred for secondary or tertiary care.', 'Primary care is often used as the term for the health care services that play a role in the local community.', 'It can be provided in different settings, such as Urgent care centers that provide same-day appointments or services on a walk-in basis.', 'Primary care involves the widest scope of health care, including all ages of patients, patients of all socioeconomic and geographic origins, patients seeking to maintain optimal health, and patients with all types of acute and chronic physical, mental and social health issues, including multiple chronic diseases.', 'Consequently, a primary care practitioner must possess a wide breadth of knowledge in many areas.', 'Continuity is a key characteristic of primary care, as patients usually prefer to consult the same practitioner for routine check-ups and preventive care, health education, and every time they require an initial consultation about a new health problem.', \"The International Classification of Primary Care (ICPC) is a standardized tool for understanding and analyzing information on interventions in primary care based on the reason for the patient's visit.\", '[10]\\n\\nCommon chronic illnesses usually treated in primary care may include, for example, hypertension, diabetes, asthma, COPD, depression and anxiety, back pain, arthritis or thyroid dysfunction.', 'Primary care also includes many basic maternal and child health care services, such as family planning services and vaccinations.', 'In the United States, the 2013 National Health Interview Survey found that skin disorders (42.7%), osteoarthritis and joint disorders (33.6%), back problems (23.9%), disorders of lipid metabolism (22.4%), and upper respiratory tract disease (22.1%, excluding asthma) were the most common reasons for accessing a physician.', '[11]\\n\\nIn the United States, primary care physicians have begun to deliver primary care outside of the managed care (insurance-billing) system through direct primary care which is a subset of the more familiar concierge medicine.', 'Physicians in this model bill patients directly for services, either on a pre-paid monthly, quarterly, or annual basis, or bill for each service in the office.', 'Examples of direct primary care practices include Foundation Health in Colorado and Qliance in Washington.', 'In the context of global population aging, with increasing numbers of older adults at greater risk of chronic non-communicable diseases, rapidly increasing demand for primary care services is expected in both developed and developing countries.', '[12][13] The World Health Organization attributes the provision of essential primary care as an integral component of an inclusive primary health care strategy.', '[7]\\n\\nSecondary care [ edit ]\\n\\nSecondary care includes acute care: necessary treatment for a short period of time for a brief but serious illness, injury, or other health condition.', 'This care is often found in a hospital emergency department.', 'Secondary care also includes skilled attendance during childbirth, intensive care, and medical imaging services.', '[14]\\n\\nThe term \"secondary care\" is sometimes used synonymously with \"hospital care\".', 'However, many secondary care providers, such as psychiatrists, clinical psychologists, occupational therapists, most dental specialties or physiotherapists, do not necessarily work in hospitals.', 'Some primary care services are delivered within hospitals.', 'Depending on the organization and policies of the national health system, patients may be required to see a primary care provider for a referral before they can access secondary care.', '[15][16]\\n\\nIn countries that operate under a mixed market health care system, some physicians limit their practice to secondary care by requiring patients to see a primary care provider first.', 'This restriction may be imposed under the terms of the payment agreements in private or group health insurance plans.', 'In other cases, medical specialists may see patients without a referral, and patients may decide whether self-referral is preferred.', 'In other countries patient self-referral to a medical specialist for secondary care is rare as prior referral from another physician (either a primary care physician or another specialist) is considered necessary, regardless of whether the funding is from private insurance schemes or national health insurance.', 'Allied health professionals, such as physical therapists, respiratory therapists, occupational therapists, speech therapists, and dietitians, also generally work in secondary care, accessed through either patient self-referral or through physician referral.', 'Tertiary care [ edit ]\\n\\nTertiary care is specialized consultative health care, usually for inpatients and on referral from a primary or secondary health professional, in a facility that has personnel and facilities for advanced medical investigation and treatment, such as a tertiary referral hospital.', '[17]\\n\\nExamples of tertiary care services are cancer management, neurosurgery, cardiac surgery, plastic surgery, treatment for severe burns, advanced neonatology services, palliative, and other complex medical and surgical interventions.', '[18]\\n\\nQuaternary care [ edit ]\\n\\nThe term quaternary care is sometimes used as an extension of tertiary care in reference to advanced levels of medicine which are highly specialized and not widely accessed.', 'Experimental medicine and some types of uncommon diagnostic or surgical procedures are considered quaternary care.', 'These services are usually only offered in a limited number of regional or national health care centers.', '[18][19]\\n\\nHome and community care [ edit ]\\n\\nMany types of health care interventions are delivered outside of health facilities.', 'They include many interventions of public health interest, such as food safety surveillance, distribution of condoms and needle-exchange programs for the prevention of transmissible diseases.', 'They also include the services of professionals in residential and community settings in support of self-care, home care, long-term care, assisted living, treatment for substance use disorders among other types of health and social care services.', 'Community rehabilitation services can assist with mobility and independence after the loss of limbs or loss of function.', 'This can include prostheses, orthotics, or wheelchairs.', 'Many countries, especially in the west, are dealing with aging populations, so one of the priorities of the health care system is to help seniors live full, independent lives in the comfort of their own homes.', \"There is an entire section of health care geared to providing seniors with help in day-to-day activities at home such as transportation to and from doctor's appointments along with many other activities that are essential for their health and well-being.\", 'Although they provide home care for older adults in cooperation, family members and care workers may harbor diverging attitudes and values towards their joint efforts.', 'This state of affairs presents a challenge for the design of ICT (information and communication technology) for home care.', '[20]\\n\\nBecause statistics show that over 80 million Americans have taken time off of their primary employment to care for a loved one,[21] many countries have begun offering programs such as the Consumer Directed Personal Assistant Program to allow family members to take care of their loved ones without giving up their entire income.', '[citation needed]\\n\\nWith obesity in children rapidly becoming a major concern, health services often set up programs in schools aimed at educating children about nutritional eating habits, making physical education a requirement and teaching young adolescents to have a positive self-image.', '[citation needed]\\n\\nRatings [ edit ]\\n\\nHealth care ratings are ratings or evaluations of health care used to evaluate the process of care and health care structures and/or outcomes of health care services.', 'This information is translated into report cards that are generated by quality organizations, nonprofit, consumer groups and media.', 'This evaluation of quality is based on measures of:\\n\\nhospital quality\\n\\nhealth plan quality\\n\\nphysician quality\\n\\nMERHS healthcare treatment\\n\\nquality for other health professionals\\n\\nof patient experience\\n\\nRelated sectors [ edit ]\\n\\nHealth care extends beyond the delivery of services to patients, encompassing many related sectors, and is set within a bigger picture of financing and governance structures.', 'Health system [ edit ]\\n\\nA health system, also sometimes referred to as health care system or healthcare system, is the organization of people, institutions, and resources that deliver health care services to populations in need.', 'Healthcare industry [ edit ]\\n\\nThe healthcare industry incorporates several sectors that are dedicated to providing health care services and products.', 'As a basic framework for defining the sector, the United Nations\\' International Standard Industrial Classification categorizes health care as generally consisting of hospital activities, medical and dental practice activities, and \"other human health activities.\"', 'The last class involves activities of, or under the supervision of, nurses, midwives, physiotherapists, scientific or diagnostic laboratories, pathology clinics, residential health facilities, patient advocates[22] or other allied health professions.', 'In addition, according to industry and market classifications, such as the Global Industry Classification Standard and the Industry Classification Benchmark, health care includes many categories of medical equipment, instruments and services including biotechnology, diagnostic laboratories and substances, drug manufacturing and delivery.', 'For example, pharmaceuticals and other medical devices are the leading high technology exports of Europe and the United States.', \"[23][24] The United States dominates the biopharmaceutical field, accounting for three-quarters of the world's biotechnology revenues.\", '[23][25]\\n\\nHealth care research [ edit ]\\n\\nFor a topical guide to this subject, see Healthcare science\\n\\nThe quantity and quality of many health care interventions are improved through the results of science, such as advanced through the medical model of health which focuses on the eradication of illness through diagnosis and effective treatment.', 'Many important advances have been made through health research, biomedical research and pharmaceutical research, which form the basis for evidence-based medicine and evidence-based practice in health care delivery.', 'Health care research frequently engages directly with patients, and as such issues for whom to engage and how to engage with them become important to consider when seeking to actively include them in studies.', 'While single best practice does not exist, the results of a systematic review on patient engagement suggest that research methods for patient selection need to account for both patient availability and willingness to engage.', '[26]\\n\\nHealth services research can lead to greater efficiency and equitable delivery of health care interventions, as advanced through the social model of health and disability, which emphasizes the societal changes that can be made to make populations healthier.', '[27] Results from health services research often form the basis of evidence-based policy in health care systems.', 'Health services research is also aided by initiatives in the field of artificial intelligence for the development of systems of health assessment that are clinically useful, timely, sensitive to change, culturally sensitive, low-burden, low-cost, built into standard procedures, and involve the patient.', '[28]\\n\\nHealth care financing [ edit ]\\n\\nSee or edit source data.', '[29] Total health spending as a fraction of GDP.', 'There are generally five primary methods of funding health care systems:[30]\\n\\nIn most countries, there is a mix of all five models, but this varies across countries and over time within countries.', 'Aside from financing mechanisms, an important question should always be how much to spend on health ccare.', 'For the purposes of comparison, this is often expressed as the percentage of GDP spent on health care.', 'In OECD countries for every extra $1000 spent on health care, life expectancy falls by 0.4 years.', '[31] A similar correlation is seen from the analysis carried out each year by Bloomberg.', \"[32] Clearly this kind of analysis is flawed in that life expectancy is only one measure of a health system's performance, but equally, the notion that more funding is better is not supported.\", 'In 2011, the health care industry consumed an average of 9.3 percent of the GDP or US$ 3,322 (PPP-adjusted) per capita across the 34 members of OECD countries.', \"The US (17.7%, or US$ PPP 8,508), the Netherlands (11.9%, 5,099), France (11.6%, 4,118), Germany (11.3%, 4,495), Canada (11.2%, 5669), and Switzerland (11%, 5,634) were the top spenders, however life expectancy in total population at birth was highest in Switzerland (82.8 years), Japan and Italy (82.7), Spain and Iceland (82.4), France (82.2) and Australia (82.0), while OECD's average exceeds 80 years for the first time ever in 2011: 80.1 years, a gain of 10 years since 1970.\", 'The US (78.7 years) ranges only on place 26 among the 34 OECD member countries, but has the highest costs by far.', 'All OECD countries have achieved universal (or almost universal) health coverage, except the US and Mexico.', '[33][34] (see also international comparisons.)', 'In the United States, where around 18% of GDP is spent on health care,[32] the Commonwealth Fund analysis of spend and quality shows a clear correlation between worse quality and higher spending.', '[35]\\n\\nAdministration and regulation [ edit ]\\n\\nThe management and administration of health care is vital to the delivery of health care services.', 'In particular, the practice of health professionals and the operation of health care institutions is typically regulated by national or state/provincial authorities through appropriate regulatory bodies for purposes of quality assurance.', '[36] Most countries have credentialing staff in regulatory boards or health departments who document the certification or licensing of health workers and their work history.', '[37]\\n\\nHealth information technology [ edit ]\\n\\nHealth information technology (HIT) is \"the application of information processing involving both computer hardware and software that deals with the storage, retrieval, sharing, and use of health care information, data, and knowledge for communication and decision making.', '\"[38]\\n\\nHealth information technology components:\\n\\nSee also [ edit ]\\n\\nBy country:\\n\\nReferences [ edit ]']\n"
          ]
        }
      ],
      "source": [
        "#Sentence tokenization\n",
        "text=arword\n",
        "sent_tokens=nltk.sent_tokenize(text)\n",
        "print(sent_tokens)"
      ]
    },
    {
      "cell_type": "code",
      "execution_count": null,
      "metadata": {
        "colab": {
          "base_uri": "https://localhost:8080/"
        },
        "id": "kA1SofrVeJop",
        "outputId": "a438d891-bfbf-4dba-c907-093ba63f2edc"
      },
      "outputs": [
        {
          "name": "stdout",
          "output_type": "stream",
          "text": [
            "!\"#$%&'()*+,-./:;<=>?@[\\]^_`{|}~\n",
            "{33: None, 34: None, 35: None, 36: None, 37: None, 38: None, 39: None, 40: None, 41: None, 42: None, 43: None, 44: None, 45: None, 46: None, 47: None, 58: None, 59: None, 60: None, 61: None, 62: None, 63: None, 64: None, 91: None, 92: None, 93: None, 94: None, 95: None, 96: None, 123: None, 124: None, 125: None, 126: None}\n"
          ]
        }
      ],
      "source": [
        "#creating a dictionary to remove the punctuation\n",
        "remove_punct_dict=dict( (ord(punct),None) for punct in string.punctuation)\n",
        "print(string.punctuation)\n",
        "print(remove_punct_dict)"
      ]
    },
    {
      "cell_type": "code",
      "execution_count": null,
      "metadata": {
        "colab": {
          "base_uri": "https://localhost:8080/"
        },
        "id": "T6Rpghd_eKfk",
        "outputId": "3e93febb-04a4-4518-c48f-0e2de04cfab5"
      },
      "outputs": [
        {
          "name": "stdout",
          "output_type": "stream",
          "text": [
            "['prevention', 'of', 'disease', 'and', 'promotion', 'of', 'wellbeing', 'not', 'to', 'be', 'confused', 'with', 'medical', 'care', 'journal', 'global', 'concentrations', 'of', 'health', 'care', 'resources', 'as', 'depicted', 'by', 'the', 'number', 'of', 'physicians', 'per', '10000', 'individuals', 'by', 'country', 'data', 'is', 'sourced', 'from', 'a', 'world', 'health', 'statistics', '2010', 'a', 'who', 'report', 'health', 'care', 'is', 'the', 'maintenance', 'or', 'improvement', 'of', 'health', 'via', 'the', 'prevention', 'diagnosis', 'treatment', 'amelioration', 'or', 'cure', 'of', 'disease', 'illness', 'injury', 'and', 'other', 'physical', 'and', 'mental', 'impairments', 'in', 'people', 'health', 'care', 'is', 'delivered', 'by', 'health', 'professionals', 'and', 'allied', 'health', 'fields', 'medicine', 'dentistry', 'pharmacy', 'midwifery', 'nursing', 'optometry', 'audiology', 'psychology', 'occupational', 'therapy', 'physical', 'therapy', 'athletic', 'training', 'and', 'other', 'health', 'professions', 'are', 'all', 'part', 'of', 'health', 'care', 'it', 'includes', 'work', 'done', 'in', 'providing', 'primary', 'care', 'secondary', 'care', 'and', 'tertiary', 'care', 'as', 'well', 'as', 'in', 'public', 'health', 'access', 'to', 'health', 'care', 'may', 'vary', 'across', 'countries', 'communities', 'and', 'individuals', 'influenced', 'by', 'social', 'and', 'economic', 'conditions', 'as', 'well', 'as', 'health', 'policies', 'providing', 'health', 'care', 'services', 'means', 'the', 'timely', 'use', 'of', 'personal', 'health', 'services', 'to', 'achieve', 'the', 'best', 'possible', 'health', 'outcomes2', 'factors', 'to', 'consider', 'in', 'terms', 'of', 'health', 'care', 'access', 'include', 'financial', 'limitations', 'such', 'as', 'insurance', 'coverage', 'geographic', 'barriers', 'such', 'as', 'additional', 'transportation', 'costs', 'the', 'possibility', 'to', 'take', 'paid', 'time', 'off', 'of', 'work', 'to', 'use', 'such', 'services', 'and', 'personal', 'limitations', 'lack', 'of', 'ability', 'to', 'communicate', 'with', 'health', 'care', 'providers', 'poor', 'health', 'literacy', 'low', 'income3', 'limitations', 'to', 'health', 'care', 'services', 'affects', 'negatively', 'the', 'use', 'of', 'medical', 'services', 'the', 'efficacy', 'of', 'treatments', 'and', 'overall', 'outcome', 'wellbeing', 'mortality', 'rates', 'health', 'care', 'systems', 'are', 'organizations', 'established', 'to', 'meet', 'the', 'health', 'needs', 'of', 'targeted', 'populations', 'according', 'to', 'the', 'world', 'health', 'organization', 'who', 'a', 'wellfunctioning', 'health', 'care', 'system', 'requires', 'a', 'financing', 'mechanism', 'a', 'welltrained', 'and', 'adequately', 'paid', 'workforce', 'reliable', 'information', 'on', 'which', 'to', 'base', 'decisions', 'and', 'policies', 'and', 'wellmaintained', 'health', 'facilities', 'to', 'deliver', 'quality', 'medicines', 'and', 'technologies', 'an', 'efficient', 'health', 'care', 'system', 'can', 'contribute', 'to', 'a', 'significant', 'part', 'of', 'a', 'countrys', 'economy', 'development', 'and', 'industrialization', 'health', 'care', 'is', 'conventionally', 'regarded', 'as', 'an', 'important', 'determinant', 'in', 'promoting', 'the', 'general', 'physical', 'and', 'mental', 'health', 'and', 'wellbeing', 'of', 'people', 'around', 'the', 'world4', 'an', 'example', 'of', 'this', 'was', 'the', 'worldwide', 'eradication', 'of', 'smallpox', 'in', '1980', 'declared', 'by', 'the', 'who', 'as', 'the', 'first', 'disease', 'in', 'human', 'history', 'to', 'be', 'eliminated', 'by', 'deliberate', 'health', 'care', 'interventions5', 'delivery', 'edit', 'primary', 'care', 'may', 'be', 'provided', 'in', 'community', 'health', 'centers', 'the', 'delivery', 'of', 'modern', 'health', 'care', 'depends', 'on', 'groups', 'of', 'trained', 'professionals', 'and', 'paraprofessionals', 'coming', 'together', 'as', 'interdisciplinary', 'teams6', 'this', 'includes', 'professionals', 'in', 'medicine', 'psychology', 'physiotherapy', 'nursing', 'dentistry', 'midwifery', 'and', 'allied', 'health', 'along', 'with', 'many', 'others', 'such', 'as', 'public', 'health', 'practitioners', 'community', 'health', 'workers', 'and', 'assistive', 'personnel', 'who', 'systematically', 'provide', 'personal', 'and', 'populationbased', 'preventive', 'curative', 'and', 'rehabilitative', 'care', 'services', 'while', 'the', 'definitions', 'of', 'the', 'various', 'types', 'of', 'health', 'care', 'vary', 'depending', 'on', 'the', 'different', 'cultural', 'political', 'organizational', 'and', 'disciplinary', 'perspectives', 'there', 'appears', 'to', 'be', 'some', 'consensus', 'that', 'primary', 'care', 'constitutes', 'the', 'first', 'element', 'of', 'a', 'continuing', 'health', 'care', 'process', 'and', 'may', 'also', 'include', 'the', 'provision', 'of', 'secondary', 'and', 'tertiary', 'levels', 'of', 'care7', 'health', 'care', 'can', 'be', 'defined', 'as', 'either', 'public', 'or', 'private', 'the', 'emergency', 'room', 'is', 'often', 'a', 'frontline', 'venue', 'for', 'the', 'delivery', 'of', 'primary', 'medical', 'care', 'primary', 'care', 'edit', 'primary', 'care', 'refers', 'to', 'the', 'work', 'of', 'health', 'professionals', 'who', 'act', 'as', 'a', 'first', 'point', 'of', 'consultation', 'for', 'all', 'patients', 'within', 'the', 'health', 'care', 'system79', 'such', 'a', 'professional', 'would', 'usually', 'be', 'a', 'primary', 'care', 'physician', 'such', 'as', 'a', 'general', 'practitioner', 'or', 'family', 'physician', 'another', 'professional', 'would', 'be', 'a', 'licensed', 'independent', 'practitioner', 'such', 'as', 'a', 'physiotherapist', 'or', 'a', 'nonphysician', 'primary', 'care', 'provider', 'such', 'as', 'a', 'physician', 'assistant', 'or', 'nurse', 'practitioner', 'depending', 'on', 'the', 'locality', 'health', 'system', 'organization', 'the', 'patient', 'may', 'see', 'another', 'health', 'care', 'professional', 'first', 'such', 'as', 'a', 'pharmacist', 'or', 'nurse', 'depending', 'on', 'the', 'nature', 'of', 'the', 'health', 'condition', 'patients', 'may', 'be', 'referred', 'for', 'secondary', 'or', 'tertiary', 'care', 'primary', 'care', 'is', 'often', 'used', 'as', 'the', 'term', 'for', 'the', 'health', 'care', 'services', 'that', 'play', 'a', 'role', 'in', 'the', 'local', 'community', 'it', 'can', 'be', 'provided', 'in', 'different', 'settings', 'such', 'as', 'urgent', 'care', 'centers', 'that', 'provide', 'sameday', 'appointments', 'or', 'services', 'on', 'a', 'walkin', 'basis', 'primary', 'care', 'involves', 'the', 'widest', 'scope', 'of', 'health', 'care', 'including', 'all', 'ages', 'of', 'patients', 'patients', 'of', 'all', 'socioeconomic', 'and', 'geographic', 'origins', 'patients', 'seeking', 'to', 'maintain', 'optimal', 'health', 'and', 'patients', 'with', 'all', 'types', 'of', 'acute', 'and', 'chronic', 'physical', 'mental', 'and', 'social', 'health', 'issues', 'including', 'multiple', 'chronic', 'diseases', 'consequently', 'a', 'primary', 'care', 'practitioner', 'must', 'possess', 'a', 'wide', 'breadth', 'of', 'knowledge', 'in', 'many', 'areas', 'continuity', 'is', 'a', 'key', 'characteristic', 'of', 'primary', 'care', 'as', 'patients', 'usually', 'prefer', 'to', 'consult', 'the', 'same', 'practitioner', 'for', 'routine', 'checkups', 'and', 'preventive', 'care', 'health', 'education', 'and', 'every', 'time', 'they', 'require', 'an', 'initial', 'consultation', 'about', 'a', 'new', 'health', 'problem', 'the', 'international', 'classification', 'of', 'primary', 'care', 'icpc', 'is', 'a', 'standardized', 'tool', 'for', 'understanding', 'and', 'analyzing', 'information', 'on', 'interventions', 'in', 'primary', 'care', 'based', 'on', 'the', 'reason', 'for', 'the', 'patients', 'visit10', 'common', 'chronic', 'illnesses', 'usually', 'treated', 'in', 'primary', 'care', 'may', 'include', 'for', 'example', 'hypertension', 'diabetes', 'asthma', 'copd', 'depression', 'and', 'anxiety', 'back', 'pain', 'arthritis', 'or', 'thyroid', 'dysfunction', 'primary', 'care', 'also', 'includes', 'many', 'basic', 'maternal', 'and', 'child', 'health', 'care', 'services', 'such', 'as', 'family', 'planning', 'services', 'and', 'vaccinations', 'in', 'the', 'united', 'states', 'the', '2013', 'national', 'health', 'interview', 'survey', 'found', 'that', 'skin', 'disorders', '427', 'osteoarthritis', 'and', 'joint', 'disorders', '336', 'back', 'problems', '239', 'disorders', 'of', 'lipid', 'metabolism', '224', 'and', 'upper', 'respiratory', 'tract', 'disease', '221', 'excluding', 'asthma', 'were', 'the', 'most', 'common', 'reasons', 'for', 'accessing', 'a', 'physician11', 'in', 'the', 'united', 'states', 'primary', 'care', 'physicians', 'have', 'begun', 'to', 'deliver', 'primary', 'care', 'outside', 'of', 'the', 'managed', 'care', 'insurancebilling', 'system', 'through', 'direct', 'primary', 'care', 'which', 'is', 'a', 'subset', 'of', 'the', 'more', 'familiar', 'concierge', 'medicine', 'physicians', 'in', 'this', 'model', 'bill', 'patients', 'directly', 'for', 'services', 'either', 'on', 'a', 'prepaid', 'monthly', 'quarterly', 'or', 'annual', 'basis', 'or', 'bill', 'for', 'each', 'service', 'in', 'the', 'office', 'examples', 'of', 'direct', 'primary', 'care', 'practices', 'include', 'foundation', 'health', 'in', 'colorado', 'and', 'qliance', 'in', 'washington', 'in', 'the', 'context', 'of', 'global', 'population', 'aging', 'with', 'increasing', 'numbers', 'of', 'older', 'adults', 'at', 'greater', 'risk', 'of', 'chronic', 'noncommunicable', 'diseases', 'rapidly', 'increasing', 'demand', 'for', 'primary', 'care', 'services', 'is', 'expected', 'in', 'both', 'developed', 'and', 'developing', 'countries1213', 'the', 'world', 'health', 'organization', 'attributes', 'the', 'provision', 'of', 'essential', 'primary', 'care', 'as', 'an', 'integral', 'component', 'of', 'an', 'inclusive', 'primary', 'health', 'care', 'strategy7', 'secondary', 'care', 'edit', 'secondary', 'care', 'includes', 'acute', 'care', 'necessary', 'treatment', 'for', 'a', 'short', 'period', 'of', 'time', 'for', 'a', 'brief', 'but', 'serious', 'illness', 'injury', 'or', 'other', 'health', 'condition', 'this', 'care', 'is', 'often', 'found', 'in', 'a', 'hospital', 'emergency', 'department', 'secondary', 'care', 'also', 'includes', 'skilled', 'attendance', 'during', 'childbirth', 'intensive', 'care', 'and', 'medical', 'imaging', 'services14', 'the', 'term', 'secondary', 'care', 'is', 'sometimes', 'used', 'synonymously', 'with', 'hospital', 'care', 'however', 'many', 'secondary', 'care', 'providers', 'such', 'as', 'psychiatrists', 'clinical', 'psychologists', 'occupational', 'therapists', 'most', 'dental', 'specialties', 'or', 'physiotherapists', 'do', 'not', 'necessarily', 'work', 'in', 'hospitals', 'some', 'primary', 'care', 'services', 'are', 'delivered', 'within', 'hospitals', 'depending', 'on', 'the', 'organization', 'and', 'policies', 'of', 'the', 'national', 'health', 'system', 'patients', 'may', 'be', 'required', 'to', 'see', 'a', 'primary', 'care', 'provider', 'for', 'a', 'referral', 'before', 'they', 'can', 'access', 'secondary', 'care1516', 'in', 'countries', 'that', 'operate', 'under', 'a', 'mixed', 'market', 'health', 'care', 'system', 'some', 'physicians', 'limit', 'their', 'practice', 'to', 'secondary', 'care', 'by', 'requiring', 'patients', 'to', 'see', 'a', 'primary', 'care', 'provider', 'first', 'this', 'restriction', 'may', 'be', 'imposed', 'under', 'the', 'terms', 'of', 'the', 'payment', 'agreements', 'in', 'private', 'or', 'group', 'health', 'insurance', 'plans', 'in', 'other', 'cases', 'medical', 'specialists', 'may', 'see', 'patients', 'without', 'a', 'referral', 'and', 'patients', 'may', 'decide', 'whether', 'selfreferral', 'is', 'preferred', 'in', 'other', 'countries', 'patient', 'selfreferral', 'to', 'a', 'medical', 'specialist', 'for', 'secondary', 'care', 'is', 'rare', 'as', 'prior', 'referral', 'from', 'another', 'physician', 'either', 'a', 'primary', 'care', 'physician', 'or', 'another', 'specialist', 'is', 'considered', 'necessary', 'regardless', 'of', 'whether', 'the', 'funding', 'is', 'from', 'private', 'insurance', 'schemes', 'or', 'national', 'health', 'insurance', 'allied', 'health', 'professionals', 'such', 'as', 'physical', 'therapists', 'respiratory', 'therapists', 'occupational', 'therapists', 'speech', 'therapists', 'and', 'dietitians', 'also', 'generally', 'work', 'in', 'secondary', 'care', 'accessed', 'through', 'either', 'patient', 'selfreferral', 'or', 'through', 'physician', 'referral', 'tertiary', 'care', 'edit', 'tertiary', 'care', 'is', 'specialized', 'consultative', 'health', 'care', 'usually', 'for', 'inpatients', 'and', 'on', 'referral', 'from', 'a', 'primary', 'or', 'secondary', 'health', 'professional', 'in', 'a', 'facility', 'that', 'has', 'personnel', 'and', 'facilities', 'for', 'advanced', 'medical', 'investigation', 'and', 'treatment', 'such', 'as', 'a', 'tertiary', 'referral', 'hospital17', 'examples', 'of', 'tertiary', 'care', 'services', 'are', 'cancer', 'management', 'neurosurgery', 'cardiac', 'surgery', 'plastic', 'surgery', 'treatment', 'for', 'severe', 'burns', 'advanced', 'neonatology', 'services', 'palliative', 'and', 'other', 'complex', 'medical', 'and', 'surgical', 'interventions18', 'quaternary', 'care', 'edit', 'the', 'term', 'quaternary', 'care', 'is', 'sometimes', 'used', 'as', 'an', 'extension', 'of', 'tertiary', 'care', 'in', 'reference', 'to', 'advanced', 'levels', 'of', 'medicine', 'which', 'are', 'highly', 'specialized', 'and', 'not', 'widely', 'accessed', 'experimental', 'medicine', 'and', 'some', 'types', 'of', 'uncommon', 'diagnostic', 'or', 'surgical', 'procedures', 'are', 'considered', 'quaternary', 'care', 'these', 'services', 'are', 'usually', 'only', 'offered', 'in', 'a', 'limited', 'number', 'of', 'regional', 'or', 'national', 'health', 'care', 'centers1819', 'home', 'and', 'community', 'care', 'edit', 'many', 'types', 'of', 'health', 'care', 'interventions', 'are', 'delivered', 'outside', 'of', 'health', 'facilities', 'they', 'include', 'many', 'interventions', 'of', 'public', 'health', 'interest', 'such', 'as', 'food', 'safety', 'surveillance', 'distribution', 'of', 'condoms', 'and', 'needleexchange', 'programs', 'for', 'the', 'prevention', 'of', 'transmissible', 'diseases', 'they', 'also', 'include', 'the', 'services', 'of', 'professionals', 'in', 'residential', 'and', 'community', 'settings', 'in', 'support', 'of', 'selfcare', 'home', 'care', 'longterm', 'care', 'assisted', 'living', 'treatment', 'for', 'substance', 'use', 'disorders', 'among', 'other', 'types', 'of', 'health', 'and', 'social', 'care', 'services', 'community', 'rehabilitation', 'services', 'can', 'assist', 'with', 'mobility', 'and', 'independence', 'after', 'the', 'loss', 'of', 'limbs', 'or', 'loss', 'of', 'function', 'this', 'can', 'include', 'prostheses', 'orthotics', 'or', 'wheelchairs', 'many', 'countries', 'especially', 'in', 'the', 'west', 'are', 'dealing', 'with', 'aging', 'populations', 'so', 'one', 'of', 'the', 'priorities', 'of', 'the', 'health', 'care', 'system', 'is', 'to', 'help', 'seniors', 'live', 'full', 'independent', 'lives', 'in', 'the', 'comfort', 'of', 'their', 'own', 'homes', 'there', 'is', 'an', 'entire', 'section', 'of', 'health', 'care', 'geared', 'to', 'providing', 'seniors', 'with', 'help', 'in', 'daytoday', 'activities', 'at', 'home', 'such', 'as', 'transportation', 'to', 'and', 'from', 'doctors', 'appointments', 'along', 'with', 'many', 'other', 'activities', 'that', 'are', 'essential', 'for', 'their', 'health', 'and', 'wellbeing', 'although', 'they', 'provide', 'home', 'care', 'for', 'older', 'adults', 'in', 'cooperation', 'family', 'members', 'and', 'care', 'workers', 'may', 'harbor', 'diverging', 'attitudes', 'and', 'values', 'towards', 'their', 'joint', 'efforts', 'this', 'state', 'of', 'affairs', 'presents', 'a', 'challenge', 'for', 'the', 'design', 'of', 'ict', 'information', 'and', 'communication', 'technology', 'for', 'home', 'care20', 'because', 'statistics', 'show', 'that', 'over', '80', 'million', 'americans', 'have', 'taken', 'time', 'off', 'of', 'their', 'primary', 'employment', 'to', 'care', 'for', 'a', 'loved', 'one21', 'many', 'countries', 'have', 'begun', 'offering', 'programs', 'such', 'as', 'the', 'consumer', 'directed', 'personal', 'assistant', 'program', 'to', 'allow', 'family', 'members', 'to', 'take', 'care', 'of', 'their', 'loved', 'ones', 'without', 'giving', 'up', 'their', 'entire', 'incomecitation', 'needed', 'with', 'obesity', 'in', 'children', 'rapidly', 'becoming', 'a', 'major', 'concern', 'health', 'services', 'often', 'set', 'up', 'programs', 'in', 'schools', 'aimed', 'at', 'educating', 'children', 'about', 'nutritional', 'eating', 'habits', 'making', 'physical', 'education', 'a', 'requirement', 'and', 'teaching', 'young', 'adolescents', 'to', 'have', 'a', 'positive', 'selfimagecitation', 'needed', 'ratings', 'edit', 'health', 'care', 'ratings', 'are', 'ratings', 'or', 'evaluations', 'of', 'health', 'care', 'used', 'to', 'evaluate', 'the', 'process', 'of', 'care', 'and', 'health', 'care', 'structures', 'andor', 'outcomes', 'of', 'health', 'care', 'services', 'this', 'information', 'is', 'translated', 'into', 'report', 'cards', 'that', 'are', 'generated', 'by', 'quality', 'organizations', 'nonprofit', 'consumer', 'groups', 'and', 'media', 'this', 'evaluation', 'of', 'quality', 'is', 'based', 'on', 'measures', 'of', 'hospital', 'quality', 'health', 'plan', 'quality', 'physician', 'quality', 'merhs', 'healthcare', 'treatment', 'quality', 'for', 'other', 'health', 'professionals', 'of', 'patient', 'experience', 'related', 'sectors', 'edit', 'health', 'care', 'extends', 'beyond', 'the', 'delivery', 'of', 'services', 'to', 'patients', 'encompassing', 'many', 'related', 'sectors', 'and', 'is', 'set', 'within', 'a', 'bigger', 'picture', 'of', 'financing', 'and', 'governance', 'structures', 'health', 'system', 'edit', 'a', 'health', 'system', 'also', 'sometimes', 'referred', 'to', 'as', 'health', 'care', 'system', 'or', 'healthcare', 'system', 'is', 'the', 'organization', 'of', 'people', 'institutions', 'and', 'resources', 'that', 'deliver', 'health', 'care', 'services', 'to', 'populations', 'in', 'need', 'healthcare', 'industry', 'edit', 'the', 'healthcare', 'industry', 'incorporates', 'several', 'sectors', 'that', 'are', 'dedicated', 'to', 'providing', 'health', 'care', 'services', 'and', 'products', 'as', 'a', 'basic', 'framework', 'for', 'defining', 'the', 'sector', 'the', 'united', 'nations', 'international', 'standard', 'industrial', 'classification', 'categorizes', 'health', 'care', 'as', 'generally', 'consisting', 'of', 'hospital', 'activities', 'medical', 'and', 'dental', 'practice', 'activities', 'and', 'other', 'human', 'health', 'activities', 'the', 'last', 'class', 'involves', 'activities', 'of', 'or', 'under', 'the', 'supervision', 'of', 'nurses', 'midwives', 'physiotherapists', 'scientific', 'or', 'diagnostic', 'laboratories', 'pathology', 'clinics', 'residential', 'health', 'facilities', 'patient', 'advocates22', 'or', 'other', 'allied', 'health', 'professions', 'in', 'addition', 'according', 'to', 'industry', 'and', 'market', 'classifications', 'such', 'as', 'the', 'global', 'industry', 'classification', 'standard', 'and', 'the', 'industry', 'classification', 'benchmark', 'health', 'care', 'includes', 'many', 'categories', 'of', 'medical', 'equipment', 'instruments', 'and', 'services', 'including', 'biotechnology', 'diagnostic', 'laboratories', 'and', 'substances', 'drug', 'manufacturing', 'and', 'delivery', 'for', 'example', 'pharmaceuticals', 'and', 'other', 'medical', 'devices', 'are', 'the', 'leading', 'high', 'technology', 'exports', 'of', 'europe', 'and', 'the', 'united', 'states2324', 'the', 'united', 'states', 'dominates', 'the', 'biopharmaceutical', 'field', 'accounting', 'for', 'threequarters', 'of', 'the', 'worlds', 'biotechnology', 'revenues2325', 'health', 'care', 'research', 'edit', 'for', 'a', 'topical', 'guide', 'to', 'this', 'subject', 'see', 'healthcare', 'science', 'the', 'quantity', 'and', 'quality', 'of', 'many', 'health', 'care', 'interventions', 'are', 'improved', 'through', 'the', 'results', 'of', 'science', 'such', 'as', 'advanced', 'through', 'the', 'medical', 'model', 'of', 'health', 'which', 'focuses', 'on', 'the', 'eradication', 'of', 'illness', 'through', 'diagnosis', 'and', 'effective', 'treatment', 'many', 'important', 'advances', 'have', 'been', 'made', 'through', 'health', 'research', 'biomedical', 'research', 'and', 'pharmaceutical', 'research', 'which', 'form', 'the', 'basis', 'for', 'evidencebased', 'medicine', 'and', 'evidencebased', 'practice', 'in', 'health', 'care', 'delivery', 'health', 'care', 'research', 'frequently', 'engages', 'directly', 'with', 'patients', 'and', 'as', 'such', 'issues', 'for', 'whom', 'to', 'engage', 'and', 'how', 'to', 'engage', 'with', 'them', 'become', 'important', 'to', 'consider', 'when', 'seeking', 'to', 'actively', 'include', 'them', 'in', 'studies', 'while', 'single', 'best', 'practice', 'does', 'not', 'exist', 'the', 'results', 'of', 'a', 'systematic', 'review', 'on', 'patient', 'engagement', 'suggest', 'that', 'research', 'methods', 'for', 'patient', 'selection', 'need', 'to', 'account', 'for', 'both', 'patient', 'availability', 'and', 'willingness', 'to', 'engage26', 'health', 'services', 'research', 'can', 'lead', 'to', 'greater', 'efficiency', 'and', 'equitable', 'delivery', 'of', 'health', 'care', 'interventions', 'as', 'advanced', 'through', 'the', 'social', 'model', 'of', 'health', 'and', 'disability', 'which', 'emphasizes', 'the', 'societal', 'changes', 'that', 'can', 'be', 'made', 'to', 'make', 'populations', 'healthier27', 'results', 'from', 'health', 'services', 'research', 'often', 'form', 'the', 'basis', 'of', 'evidencebased', 'policy', 'in', 'health', 'care', 'systems', 'health', 'services', 'research', 'is', 'also', 'aided', 'by', 'initiatives', 'in', 'the', 'field', 'of', 'artificial', 'intelligence', 'for', 'the', 'development', 'of', 'systems', 'of', 'health', 'assessment', 'that', 'are', 'clinically', 'useful', 'timely', 'sensitive', 'to', 'change', 'culturally', 'sensitive', 'lowburden', 'lowcost', 'built', 'into', 'standard', 'procedures', 'and', 'involve', 'the', 'patient28', 'health', 'care', 'financing', 'edit', 'see', 'or', 'edit', 'source', 'data', '29', 'total', 'health', 'spending', 'as', 'a', 'fraction', 'of', 'gdp', 'there', 'are', 'generally', 'five', 'primary', 'methods', 'of', 'funding', 'health', 'care', 'systems30', 'in', 'most', 'countries', 'there', 'is', 'a', 'mix', 'of', 'all', 'five', 'models', 'but', 'this', 'varies', 'across', 'countries', 'and', 'over', 'time', 'within', 'countries', 'aside', 'from', 'financing', 'mechanisms', 'an', 'important', 'question', 'should', 'always', 'be', 'how', 'much', 'to', 'spend', 'on', 'health', 'ccare', 'for', 'the', 'purposes', 'of', 'comparison', 'this', 'is', 'often', 'expressed', 'as', 'the', 'percentage', 'of', 'gdp', 'spent', 'on', 'health', 'care', 'in', 'oecd', 'countries', 'for', 'every', 'extra', '1000', 'spent', 'on', 'health', 'care', 'life', 'expectancy', 'falls', 'by', '04', 'years31', 'a', 'similar', 'correlation', 'is', 'seen', 'from', 'the', 'analysis', 'carried', 'out', 'each', 'year', 'by', 'bloomberg32', 'clearly', 'this', 'kind', 'of', 'analysis', 'is', 'flawed', 'in', 'that', 'life', 'expectancy', 'is', 'only', 'one', 'measure', 'of', 'a', 'health', 'systems', 'performance', 'but', 'equally', 'the', 'notion', 'that', 'more', 'funding', 'is', 'better', 'is', 'not', 'supported', 'in', '2011', 'the', 'health', 'care', 'industry', 'consumed', 'an', 'average', 'of', '93', 'percent', 'of', 'the', 'gdp', 'or', 'us', '3322', 'pppadjusted', 'per', 'capita', 'across', 'the', '34', 'members', 'of', 'oecd', 'countries', 'the', 'us', '177', 'or', 'us', 'ppp', '8508', 'the', 'netherlands', '119', '5099', 'france', '116', '4118', 'germany', '113', '4495', 'canada', '112', '5669', 'and', 'switzerland', '11', '5634', 'were', 'the', 'top', 'spenders', 'however', 'life', 'expectancy', 'in', 'total', 'population', 'at', 'birth', 'was', 'highest', 'in', 'switzerland', '828', 'years', 'japan', 'and', 'italy', '827', 'spain', 'and', 'iceland', '824', 'france', '822', 'and', 'australia', '820', 'while', 'oecds', 'average', 'exceeds', '80', 'years', 'for', 'the', 'first', 'time', 'ever', 'in', '2011', '801', 'years', 'a', 'gain', 'of', '10', 'years', 'since', '1970', 'the', 'us', '787', 'years', 'ranges', 'only', 'on', 'place', '26', 'among', 'the', '34', 'oecd', 'member', 'countries', 'but', 'has', 'the', 'highest', 'costs', 'by', 'far', 'all', 'oecd', 'countries', 'have', 'achieved', 'universal', 'or', 'almost', 'universal', 'health', 'coverage', 'except', 'the', 'us', 'and', 'mexico3334', 'see', 'also', 'international', 'comparisons', 'in', 'the', 'united', 'states', 'where', 'around', '18', 'of', 'gdp', 'is', 'spent', 'on', 'health', 'care32', 'the', 'commonwealth', 'fund', 'analysis', 'of', 'spend', 'and', 'quality', 'shows', 'a', 'clear', 'correlation', 'between', 'worse', 'quality', 'and', 'higher', 'spending35', 'administration', 'and', 'regulation', 'edit', 'the', 'management', 'and', 'administration', 'of', 'health', 'care', 'is', 'vital', 'to', 'the', 'delivery', 'of', 'health', 'care', 'services', 'in', 'particular', 'the', 'practice', 'of', 'health', 'professionals', 'and', 'the', 'operation', 'of', 'health', 'care', 'institutions', 'is', 'typically', 'regulated', 'by', 'national', 'or', 'stateprovincial', 'authorities', 'through', 'appropriate', 'regulatory', 'bodies', 'for', 'purposes', 'of', 'quality', 'assurance36', 'most', 'countries', 'have', 'credentialing', 'staff', 'in', 'regulatory', 'boards', 'or', 'health', 'departments', 'who', 'document', 'the', 'certification', 'or', 'licensing', 'of', 'health', 'workers', 'and', 'their', 'work', 'history37', 'health', 'information', 'technology', 'edit', 'health', 'information', 'technology', 'hit', 'is', 'the', 'application', 'of', 'information', 'processing', 'involving', 'both', 'computer', 'hardware', 'and', 'software', 'that', 'deals', 'with', 'the', 'storage', 'retrieval', 'sharing', 'and', 'use', 'of', 'health', 'care', 'information', 'data', 'and', 'knowledge', 'for', 'communication', 'and', 'decision', 'making38', 'health', 'information', 'technology', 'components', 'see', 'also', 'edit', 'by', 'country', 'references', 'edit']\n"
          ]
        }
      ],
      "source": [
        "#create a function to return lower case words \n",
        "def LemNormalize(text):\n",
        "  return nltk.word_tokenize(text.lower().translate(remove_punct_dict))\n",
        "print(LemNormalize(text))"
      ]
    },
    {
      "cell_type": "code",
      "execution_count": null,
      "metadata": {
        "id": "9NDZ1uN7eN4r"
      },
      "outputs": [],
      "source": [
        "# #keywords for greetings\n",
        "greeting_input=[\"hi\",\"hello\",\"hey\",\"hola\"]\n",
        "greeting_response=[\"howdy\",\"hey there\",\"hi\",\"hello :)\"]\n",
        "def greeting(sentence):\n",
        "  for word in sentence.split():\n",
        "    if word.lower() in greeting_input:\n",
        "      return random.choice(greeting_response)"
      ]
    },
    {
      "cell_type": "code",
      "execution_count": null,
      "metadata": {
        "id": "sWK9Z84deOyo"
      },
      "outputs": [],
      "source": [
        "def response(user_response):\n",
        " #user response and robo responce\n",
        "  #user_response=\"WHat is chronic disease\"\n",
        "  user_response=user_response.lower()\n",
        "  #print(user_response)\n",
        "  #robo response\n",
        "  robo_response=''\n",
        "  sent_tokens.append(user_response)\n",
        "  #print(sent_tokens)\n",
        "  tfidfvec=TfidfVectorizer(tokenizer=LemNormalize , stop_words='english')\n",
        "  tfidf=tfidfvec.fit_transform(sent_tokens)\n",
        "  # print(vectorize.idf_)\n",
        "  #print(tfidf)\n",
        "  #get similarity score\n",
        "  val=cosine_similarity(tfidf[0],tfidf)\n",
        "  #print(val)\n",
        "  # idx=val.argsort()[0][-2]\n",
        "  idx=val.argsort()[0][-2]\n",
        "  flat=val.flatten()\n",
        "  flat.sort()\n",
        "  score=flat[-2]\n",
        "  #print(score)\n",
        "  if score==0:\n",
        "    robo_response=robo_response+\"sorry,i dont understand\"\n",
        "  else:\n",
        "    robo_response=robo_response+sent_tokens[idx]\n",
        "\n",
        "  sent_tokens.remove(user_response)\n",
        "  return robo_response"
      ]
    },
    {
      "cell_type": "code",
      "execution_count": null,
      "metadata": {
        "colab": {
          "background_save": true,
          "base_uri": "https://localhost:8080/"
        },
        "id": "1GDd6zxDeTc5",
        "outputId": "452ac0b6-c449-42af-eb3a-7c8c7ecca032"
      },
      "outputs": [
        {
          "name": "stdout",
          "output_type": "stream",
          "text": [
            "hello!!! this is self_Chatbot,i can answer your queris related to HealthCare ,type bye to exit\n",
            "self_Chatbot: hey there\n",
            "self_Chatbot: hi\n",
            "self_Chatbot:Health care is the maintenance or improvement of health via the prevention, diagnosis, treatment, amelioration, or cure of disease, illness, injury, and other physical and mental impairments in people.\n",
            "self_Chatbot:Health care is the maintenance or improvement of health via the prevention, diagnosis, treatment, amelioration, or cure of disease, illness, injury, and other physical and mental impairments in people.\n"
          ]
        }
      ],
      "source": [
        "greeting_input=[\"hi\",\"hello\",\"hey\",\"hiii\"]\n",
        "greeting_response=[\"howdy\",\"hey there\",\"hi\",\"hello :)\"]\n",
        "def greeting(sentence):\n",
        "  for word in sentence.split():\n",
        "    if word.lower() in greeting_input:\n",
        "      return random.choice(greeting_response)\n",
        "flag=True\n",
        "print(\"hello!!! this is self_Chatbot,i can answer your queris related to HealthCare ,type bye to exit\")\n",
        "while(flag==True):\n",
        "  user_response=input(\"me:\")\n",
        "  #user_response=user_response.lower()\n",
        "  if(user_response!='bye'):\n",
        "    if(user_response=='thanks' or user_response=='thank you'):\n",
        "      flag=False\n",
        "      print(\"self_Chatbot: anytime :)\")\n",
        "    else:\n",
        "       if( greeting(user_response) != None):\n",
        "         print(\"self_Chatbot: \"+ greeting(user_response))\n",
        "       else:\n",
        "         print(\"self_Chatbot:\"+response(user_response))\n",
        "  else:\n",
        "    flag=False\n",
        "    print(\"self_Chatbot: see you later :)\")"
      ]
    }
  ],
  "metadata": {
    "colab": {
      "provenance": []
    },
    "kernelspec": {
      "display_name": "Python 3",
      "name": "python3"
    },
    "language_info": {
      "name": "python"
    }
  },
  "nbformat": 4,
  "nbformat_minor": 0
}